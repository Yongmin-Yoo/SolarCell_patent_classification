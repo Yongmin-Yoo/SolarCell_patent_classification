{
 "cells": [
  {
   "cell_type": "code",
   "execution_count": 3,
   "id": "f74ee375-47f0-4429-a688-202e5f57d197",
   "metadata": {},
   "outputs": [],
   "source": [
    "from selenium import webdriver\n",
    "import pandas as pd\n",
    "from urllib.request import urlopen\n",
    "from bs4 import BeautifulSoup\n",
    "import requests"
   ]
  },
  {
   "cell_type": "code",
   "execution_count": 4,
   "id": "e89947cb-cbde-4f3a-a7a8-04fe774be770",
   "metadata": {},
   "outputs": [
    {
     "name": "stdout",
     "output_type": "stream",
     "text": [
      "Crawling 시작\n",
      "crawling한 url주소를 url.csv 라는 이름으로 저장함\n"
     ]
    }
   ],
   "source": [
    "urls = []\n",
    "\n",
    "for j in range(30):\n",
    "    if j == 0:\n",
    "        print('Crawling 시작')\n",
    "    driver = webdriver.Chrome('chromedriver')\n",
    "    url_page = str(j)\n",
    "    driver.get(url='https://patents.google.com/?q=(solar+cell)&q=F24J2%2f14,F24J2%2f45,F24J2%2f46,F24J2%2f523&page='+url_page)\n",
    "    driver.implicitly_wait(time_to_wait=5)\n",
    "    info = driver.find_element_by_xpath('//*[@id=\"resultsContainer\"]')\n",
    "    contents = info.find_elements_by_tag_name('search-result-item')\n",
    "    for i in range(len(contents)):\n",
    "        address = contents[i].find_element_by_tag_name('state-modifier').get_attribute('data-result') # patent/name/en\n",
    "        url = 'patents.google.com/%s' % address\n",
    "        urls.append('http://'+url)\n",
    "    if j == 35:\n",
    "        print('Crawling 끝')\n",
    "\n",
    "df = pd.DataFrame(urls,columns=['url'])\n",
    "df.to_csv('url.csv')\n",
    "print('crawling한 url주소를 url.csv 라는 이름으로 저장함')"
   ]
  },
  {
   "cell_type": "code",
   "execution_count": 46,
   "id": "80409395-8adb-4e04-99e7-a48e205da350",
   "metadata": {},
   "outputs": [],
   "source": [
    "df_list = list(df['url'])\n",
    "title = []\n",
    "abstract = []\n",
    "label_all = []\n",
    "meta_label = []\n",
    "\n",
    "for k in df_list:\n",
    "#    print(k+' Crawling중입니다.')\n",
    "    html = urlopen(k)\n",
    "    bsObject = BeautifulSoup(html,'html.parser')\n",
    "    \n",
    "#    print('제목시작')\n",
    "    for a in bsObject.find_all('title'):\n",
    "        text = a.get_text()\n",
    "        title.append(text)\n",
    "#    print('제목 끝')\n",
    "    \n",
    "#    print('abstract 시작')\n",
    "    for b in bsObject.find_all('meta',{'name':'description'}):\n",
    "        b = str(b)\n",
    "        b =b.replace('<meta content=\"\\n','')\n",
    "        c = b.replace('name=\"description\"/>','')\n",
    "        abstract.append(c)\n",
    "#     print('abstract 끝')\n",
    "\n",
    "#     print('ipc시작')\n",
    "    label_fake = []   \n",
    "    for a in bsObject.find_all('li',{'itemprop':'cpcs'}):\n",
    "        label_all.append(a)\n",
    "        label_fake.append(a)\n",
    "#     print(len(label_fake),'개의 코드 찾음')\n",
    "#     print(\"label_fake ipc 끝\")\n",
    "    \n",
    "    o = []\n",
    "    x = []\n",
    "\n",
    "    for i in range(len(label_fake)):\n",
    "        if str('<meta content=\"true\" itemprop=\"Leaf\"') in str(label_fake[i]):\n",
    "            o.append(label_fake[i])\n",
    "        else :\n",
    "            x.append(label_fake[i])\n",
    "            \n",
    "#     print('o 에 대한거 완료')\n",
    "\n",
    "    \n",
    "    for j in range(len(o)):    \n",
    "        meta = o[j].find_all('span',{'itemprop':'Code'})[0].get_text()\n",
    "        meta_label.append(meta)\n",
    "#    print('meta label 집어넣기 ')\n",
    "    meta_label.append('--------------------')    \n",
    "\n",
    "ml = ';'.join(meta_label)\n",
    "final_ipc = ml.split('--------------------')\n",
    "\n",
    "ipc_df = pd.DataFrame(final_ipc[:-1],columns=['Ipc'])\n",
    "title_df = pd.DataFrame(title,columns=['Title'])\n",
    "abstract_df = pd.DataFrame(abstract,columns=['Abstract'])\n",
    "\n",
    "patent_crawled_df = pd.concat([title_df,abstract_df,ipc_df,],axis=1)\n",
    "\n",
    "patent_crawled_df.to_csv(\"patent_crawling.csv\")"
   ]
  },
  {
   "cell_type": "code",
   "execution_count": null,
   "id": "8938c621-a401-4f9f-a049-5ccec204126f",
   "metadata": {},
   "outputs": [],
   "source": []
  }
 ],
 "metadata": {
  "kernelspec": {
   "display_name": "Python 3 (ipykernel)",
   "language": "python",
   "name": "python3"
  },
  "language_info": {
   "codemirror_mode": {
    "name": "ipython",
    "version": 3
   },
   "file_extension": ".py",
   "mimetype": "text/x-python",
   "name": "python",
   "nbconvert_exporter": "python",
   "pygments_lexer": "ipython3",
   "version": "3.7.10"
  }
 },
 "nbformat": 4,
 "nbformat_minor": 5
}
